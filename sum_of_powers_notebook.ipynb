{
 "cells": [
  {
   "cell_type": "markdown",
   "id": "17465e47",
   "metadata": {},
   "source": [
    "# Discovering the Sum of Natural Numbers — A Visual Jupyter Notebook\n",
    "\n",
    "This interactive notebook follows the **student-friendly** Markdown course. Run each code cell to see results and play with the examples."
   ]
  },
  {
   "cell_type": "markdown",
   "id": "e41fc670",
   "metadata": {},
   "source": [
    "## Module 1 — What are natural numbers?\n",
    "\n",
    "Natural numbers are the numbers we use for counting: 1, 2, 3, 4, ...\n",
    "\n",
    "We'll explore sums like:\n",
    "\n",
    "$$\\sum_{x=1}^{n} x = 1 + 2 + \\dots + n$$\n",
    "\n",
    "Start by running the next cell to compute some triangular numbers."
   ]
  },
  {
   "cell_type": "code",
   "execution_count": null,
   "id": "9fe56d94",
   "metadata": {},
   "outputs": [],
   "source": [
    "# Compute triangular numbers for n = 1..12 and print them\n",
    "def triangular(n):\n",
    "    return n*(n+1)//2\n",
    "\n",
    "for i in range(1,13):\n",
    "    print(f\"n={i:2d}  ->  sum 1..{i} = {triangular(i)}\")"
   ]
  },
  {
   "cell_type": "markdown",
   "id": "84de96c7",
   "metadata": {},
   "source": [
    "## Module 2 — Visualizing the staircase and pairing trick\n",
    "\n",
    "Below we draw the staircase (dots) for a chosen n, then create a flipped copy and show how they combine into a rectangle. Change `n` and re-run the cell."
   ]
  },
  {
   "cell_type": "code",
   "execution_count": null,
   "id": "85bc6274",
   "metadata": {},
   "outputs": [],
   "source": [
    "# Visualize staircase and its mirrored rectangle\n",
    "import matplotlib.pyplot as plt\n",
    "import numpy as np\n",
    "\n",
    "def plot_staircase(n=5, show_rectangle=True):\n",
    "    # Create coordinates for dots in a staircase: rows of increasing length\n",
    "    xs, ys = [], []\n",
    "    for row in range(1, n+1):\n",
    "        for col in range(row):\n",
    "            xs.append(col)\n",
    "            ys.append(-row)  # negative so top row is at y=-1 visually\n",
    "\n",
    "    fig, ax = plt.subplots(figsize=(6,4))\n",
    "    ax.scatter(xs, ys, s=200)  # no color specified per instructions\n",
    "    ax.set_aspect('equal')\n",
    "    ax.set_xticks([])\n",
    "    ax.set_yticks([])\n",
    "    ax.set_title(f'Staircase for n={n} (one triangular number)')\n",
    "\n",
    "    if show_rectangle:\n",
    "        # Draw mirrored staircase to form rectangle\n",
    "        # Rectangle width = n+1, height = n (conceptual)\n",
    "        rect = plt.Rectangle((-0.5, -n-0.5), n+1, n+0.2, fill=False, linewidth=1)\n",
    "        ax.add_patch(rect)\n",
    "        ax.text(n/2, -n-0.2, f'Rectangle area = n*(n+1) = {n*(n+1)}', ha='center', va='top')\n",
    "\n",
    "    plt.show()\n",
    "\n",
    "# Example\n",
    "plot_staircase(n=6)"
   ]
  },
  {
   "cell_type": "markdown",
   "id": "5c2863fd",
   "metadata": {},
   "source": [
    "**Exercise:** Try changing `n` in the previous cell to 4, 7, or 10 and re-run. Notice how the rectangle width equals `n+1` and height `n`. The triangular (staircase) area is half the rectangle."
   ]
  },
  {
   "cell_type": "markdown",
   "id": "5ee98623",
   "metadata": {},
   "source": [
    "## Module 3 — Pairing algebraically\n",
    "\n",
    "We use the trick of writing the sum forward and backward and adding termwise. The notebook below verifies the algebraic identity:\n",
    "\n",
    "$$S = 1 + 2 + ... + n \\Rightarrow 2S = n(n+1) \\Rightarrow S = \\frac{n(n+1)}{2}$$\n",
    "\n",
    "Run for several values of n to verify."
   ]
  },
  {
   "cell_type": "code",
   "execution_count": null,
   "id": "f9d7d1bb",
   "metadata": {},
   "outputs": [],
   "source": [
    "# Verify pairing formula for many n and compare to direct sum\n",
    "def sum_direct(n):\n",
    "    return sum(range(1, n+1))\n",
    "\n",
    "def sum_formula(n):\n",
    "    return n*(n+1)//2\n",
    "\n",
    "errors = []\n",
    "for n in range(1,41):\n",
    "    direct = sum_direct(n)\n",
    "    form = sum_formula(n)\n",
    "    if direct != form:\n",
    "        errors.append((n, direct, form))\n",
    "\n",
    "print('Checked n=1..40. Number of mismatches:', len(errors))\n",
    "if errors:\n",
    "    print(errors[:5])"
   ]
  },
  {
   "cell_type": "markdown",
   "id": "cc3feba8",
   "metadata": {},
   "source": [
    "## Module 4 — Sums of squares and cubes (explore)\n",
    "\n",
    "Formulas:\n",
    "\n",
    "$$\\sum_{x=1}^n x^2 = \\frac{n(n+1)(2n+1)}{6}$$\n",
    "\n",
    "$$\\sum_{x=1}^n x^3 = \\left(\\frac{n(n+1)}{2}\\right)^2$$\n",
    "\n",
    "Use the cells below to compute and compare values."
   ]
  },
  {
   "cell_type": "code",
   "execution_count": null,
   "id": "ca50398a",
   "metadata": {},
   "outputs": [],
   "source": [
    "# Verify sum of squares and cubes formulas for various n\n",
    "def sum_squares_direct(n):\n",
    "    return sum(i*i for i in range(1, n+1))\n",
    "\n",
    "def sum_squares_formula(n):\n",
    "    return n*(n+1)*(2*n+1)//6\n",
    "\n",
    "def sum_cubes_direct(n):\n",
    "    return sum(i**3 for i in range(1, n+1))\n",
    "\n",
    "def sum_cubes_formula(n):\n",
    "    s = n*(n+1)//2\n",
    "    return s*s\n",
    "\n",
    "for n in [1,2,3,4,5,10,20,50]:\n",
    "    print(f\"n={n:2d} | squares: direct={sum_squares_direct(n):8d} formula={sum_squares_formula(n):8d} | cubes: direct={sum_cubes_direct(n):12d} formula={sum_cubes_formula(n):12d}\")"
   ]
  },
  {
   "cell_type": "markdown",
   "id": "ed596403",
   "metadata": {},
   "source": [
    "## Module 5 — Interactive exploration (change n, observe growth)\n",
    "\n",
    "Below you can change the value of `n` and see numeric results and a simple plot of the growth of sums: ∑x, ∑x², ∑x³."
   ]
  },
  {
   "cell_type": "code",
   "execution_count": null,
   "id": "4b3315be",
   "metadata": {},
   "outputs": [],
   "source": [
    "# Interactive exploration: compute sums and plot growth\n",
    "import matplotlib.pyplot as plt\n",
    "\n",
    "def compute_sums_up_to(max_n=100):\n",
    "    ns = list(range(1, max_n+1))\n",
    "    sum_x = [n*(n+1)/2 for n in ns]\n",
    "    sum_x2 = [n*(n+1)*(2*n+1)/6 for n in ns]\n",
    "    sum_x3 = [(n*(n+1)/2)**2 for n in ns]\n",
    "    return ns, sum_x, sum_x2, sum_x3\n",
    "\n",
    "# Set max_n here\n",
    "max_n = 60\n",
    "ns, sx, sx2, sx3 = compute_sums_up_to(max_n)\n",
    "\n",
    "fig, ax = plt.subplots(figsize=(8,4))\n",
    "ax.plot(ns, sx, label='sum x (n(n+1)/2)')\n",
    "ax.plot(ns, sx2, label='sum x^2 (n(n+1)(2n+1)/6)')\n",
    "ax.plot(ns, sx3, label='sum x^3 ((n(n+1)/2)^2)')\n",
    "ax.set_xlabel('n')\n",
    "ax.set_ylabel('sum value')\n",
    "ax.legend()\n",
    "plt.show()"
   ]
  },
  {
   "cell_type": "markdown",
   "id": "c64eca01",
   "metadata": {},
   "source": [
    "**Challenge:** Try increasing `max_n` to 200 or 1000 and re-run the cell. Observe how the cubic sum grows much faster than linear or quadratic sums."
   ]
  },
  {
   "cell_type": "markdown",
   "id": "9a62c1c3",
   "metadata": {},
   "source": [
    "## Module 6 — Exercises\n",
    "\n",
    "1. Compute the sum 1+2+...+100 using the formula. Confirm by direct computation.\n",
    "2. Compute ∑x² for n = 100 and use it to find the variance of numbers 1..100 (population variance).\n",
    "3. Prove (on paper) that ∑x³ = (∑x)² using algebraic manipulation or a simple induction argument.\n",
    "\n",
    "Run the code cell below to get answers for exercises 1 and 2."
   ]
  },
  {
   "cell_type": "code",
   "execution_count": null,
   "id": "bdd29076",
   "metadata": {},
   "outputs": [],
   "source": [
    "# Exercise answers for quick-check\n",
    "def triangular(n): return n*(n+1)//2\n",
    "def sum_squares_formula(n): return n*(n+1)*(2*n+1)//6\n",
    "\n",
    "n = 100\n",
    "S = triangular(n)\n",
    "S2 = sum_squares_formula(n)\n",
    "\n",
    "# population mean of numbers 1..n\n",
    "mean = S / n\n",
    "# population variance = (1/n) * sum[(x-mean)^2] = (1/n)*sum(x^2) - mean^2\n",
    "variance = (S2 / n) - (mean**2)\n",
    "\n",
    "S, S2, mean, variance"
   ]
  },
  {
   "cell_type": "markdown",
   "id": "6ad2fca2",
   "metadata": {},
   "source": [
    "## Module 7 — Further reading and next steps\n",
    "\n",
    "If you enjoyed this notebook you can:\n",
    "\n",
    "- Try implementing proofs by induction for the formulas.\n",
    "- Explore Faulhaber's formula and Bernoulli numbers (advanced).\n",
    "- Use the notebook to create visual slides for teaching. \n",
    "\n",
    "---\n",
    "\n",
    "**Download:** Use the link provided by the environment to download the notebook file and open it in Jupyter or Google Colab."
   ]
  }
 ],
 "metadata": {},
 "nbformat": 4,
 "nbformat_minor": 5
}
