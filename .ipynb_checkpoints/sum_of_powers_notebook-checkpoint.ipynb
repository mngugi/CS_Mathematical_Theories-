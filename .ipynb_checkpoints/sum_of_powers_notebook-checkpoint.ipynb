{
 "cells": [
  {
   "cell_type": "markdown",
   "id": "17465e47",
   "metadata": {},
   "source": [
    "# Discovering the Sum of Natural Numbers — A Visual Jupyter Notebook\n",
    "\n",
    "This interactive notebook follows the **student-friendly** Markdown course. Run each code cell to see results and play with the examples."
   ]
  },
  {
   "cell_type": "markdown",
   "id": "e41fc670",
   "metadata": {},
   "source": [
    "## Module 1 — What are natural numbers?\n",
    "\n",
    "Natural numbers are the numbers we use for counting: 1, 2, 3, 4, ...\n",
    "\n",
    "We'll explore sums like:\n",
    "\n",
    "$$\\sum_{x=1}^{n} x = 1 + 2 + \\dots + n$$\n",
    "\n",
    "Start by running the next cell to compute some triangular numbers."
   ]
  },
  {
   "cell_type": "code",
   "execution_count": 2,
   "id": "9fe56d94",
   "metadata": {},
   "outputs": [
    {
     "name": "stdout",
     "output_type": "stream",
     "text": [
      "n= 1  ->  sum 1..1 = 1\n",
      "n= 2  ->  sum 1..2 = 3\n",
      "n= 3  ->  sum 1..3 = 6\n",
      "n= 4  ->  sum 1..4 = 10\n",
      "n= 5  ->  sum 1..5 = 15\n",
      "n= 6  ->  sum 1..6 = 21\n",
      "n= 7  ->  sum 1..7 = 28\n",
      "n= 8  ->  sum 1..8 = 36\n",
      "n= 9  ->  sum 1..9 = 45\n",
      "n=10  ->  sum 1..10 = 55\n",
      "n=11  ->  sum 1..11 = 66\n",
      "n=12  ->  sum 1..12 = 78\n"
     ]
    }
   ],
   "source": [
    "# Compute triangular numbers for n = 1..12 and print them\n",
    "def triangular(n):\n",
    "    return n*(n+1)//2\n",
    "\n",
    "for i in range(1,13):\n",
    "    print(f\"n={i:2d}  ->  sum 1..{i} = {triangular(i)}\")"
   ]
  },
  {
   "cell_type": "markdown",
   "id": "84de96c7",
   "metadata": {},
   "source": [
    "## Module 2 — Visualizing the staircase and pairing trick\n",
    "\n",
    "Below we draw the staircase (dots) for a chosen n, then create a flipped copy and show how they combine into a rectangle. Change `n` and re-run the cell."
   ]
  },
  {
   "cell_type": "code",
   "execution_count": 3,
   "id": "85bc6274",
   "metadata": {},
   "outputs": [
    {
     "data": {
      "image/png": "[encoded data removed]",
      "text/plain": [
       "<Figure size 600x400 with 1 Axes>"
      ]
     },
     "metadata": {},
     "output_type": "display_data"
    }
   ],
   "source": [
    "# Visualize staircase and its mirrored rectangle\n",
    "import matplotlib.pyplot as plt\n",
    "import numpy as np\n",
    "\n",
    "def plot_staircase(n=5, show_rectangle=True):\n",
    "    # Create coordinates for dots in a staircase: rows of increasing length\n",
    "    xs, ys = [], []\n",
    "    for row in range(1, n+1):\n",
    "        for col in range(row):\n",
    "            xs.append(col)\n",
    "            ys.append(-row)  # negative so top row is at y=-1 visually\n",
    "\n",
    "    fig, ax = plt.subplots(figsize=(6,4))\n",
    "    ax.scatter(xs, ys, s=200)  # no color specified per instructions\n",
    "    ax.set_aspect('equal')\n",
    "    ax.set_xticks([])\n",
    "    ax.set_yticks([])\n",
    "    ax.set_title(f'Staircase for n={n} (one triangular number)')\n",
    "\n",
    "    if show_rectangle:\n",
    "        # Draw mirrored staircase to form rectangle\n",
    "        # Rectangle width = n+1, height = n (conceptual)\n",
    "        rect = plt.Rectangle((-0.5, -n-0.5), n+1, n+0.2, fill=False, linewidth=1)\n",
    "        ax.add_patch(rect)\n",
    "        ax.text(n/2, -n-0.2, f'Rectangle area = n*(n+1) = {n*(n+1)}', ha='center', va='top')\n",
    "\n",
    "    plt.show()\n",
    "\n",
    "# Example\n",
    "plot_staircase(n=6)"
   ]
  },
  {
   "cell_type": "markdown",
   "id": "5c2863fd",
   "metadata": {},
   "source": [
    "**Exercise:** Try changing `n` in the previous cell to 4, 7, or 10 and re-run. Notice how the rectangle width equals `n+1` and height `n`. The triangular (staircase) area is half the rectangle."
   ]
  },
  {
   "cell_type": "markdown",
   "id": "5ee98623",
   "metadata": {},
   "source": [
    "## Module 3 — Pairing algebraically\n",
    "\n",
    "We use the trick of writing the sum forward and backward and adding termwise. The notebook below verifies the algebraic identity:\n",
    "\n",
    "$$S = 1 + 2 + ... + n \\Rightarrow 2S = n(n+1) \\Rightarrow S = \\frac{n(n+1)}{2}$$\n",
    "\n",
    "Run for several values of n to verify."
   ]
  },
  {
   "cell_type": "code",
   "execution_count": 4,
   "id": "f9d7d1bb",
   "metadata": {},
   "outputs": [
    {
     "name": "stdout",
     "output_type": "stream",
     "text": [
      "Checked n=1..40. Number of mismatches: 0\n"
     ]
    }
   ],
   "source": [
    "# Verify pairing formula for many n and compare to direct sum\n",
    "def sum_direct(n):\n",
    "    return sum(range(1, n+1))\n",
    "\n",
    "def sum_formula(n):\n",
    "    return n*(n+1)//2\n",
    "\n",
    "errors = []\n",
    "for n in range(1,41):\n",
    "    direct = sum_direct(n)\n",
    "    form = sum_formula(n)\n",
    "    if direct != form:\n",
    "        errors.append((n, direct, form))\n",
    "\n",
    "print('Checked n=1..40. Number of mismatches:', len(errors))\n",
    "if errors:\n",
    "    print(errors[:5])"
   ]
  },
  {
   "cell_type": "markdown",
   "id": "cc3feba8",
   "metadata": {},
   "source": [
    "## Module 4 — Sums of squares and cubes (explore)\n",
    "\n",
    "Formulas:\n",
    "\n",
    "$$\\sum_{x=1}^n x^2 = \\frac{n(n+1)(2n+1)}{6}$$\n",
    "\n",
    "$$\\sum_{x=1}^n x^3 = \\left(\\frac{n(n+1)}{2}\\right)^2$$\n",
    "\n",
    "Use the cells below to compute and compare values."
   ]
  },
  {
   "cell_type": "code",
   "execution_count": 5,
   "id": "ca50398a",
   "metadata": {},
   "outputs": [
    {
     "name": "stdout",
     "output_type": "stream",
     "text": [
      "n= 1 | squares: direct=       1 formula=       1 | cubes: direct=           1 formula=           1\n",
      "n= 2 | squares: direct=       5 formula=       5 | cubes: direct=           9 formula=           9\n",
      "n= 3 | squares: direct=      14 formula=      14 | cubes: direct=          36 formula=          36\n",
      "n= 4 | squares: direct=      30 formula=      30 | cubes: direct=         100 formula=         100\n",
      "n= 5 | squares: direct=      55 formula=      55 | cubes: direct=         225 formula=         225\n",
      "n=10 | squares: direct=     385 formula=     385 | cubes: direct=        3025 formula=        3025\n",
      "n=20 | squares: direct=    2870 formula=    2870 | cubes: direct=       44100 formula=       44100\n",
      "n=50 | squares: direct=   42925 formula=   42925 | cubes: direct=     1625625 formula=     1625625\n"
     ]
    }
   ],
   "source": [
    "# Verify sum of squares and cubes formulas for various n\n",
    "def sum_squares_direct(n):\n",
    "    return sum(i*i for i in range(1, n+1))\n",
    "\n",
    "def sum_squares_formula(n):\n",
    "    return n*(n+1)*(2*n+1)//6\n",
    "\n",
    "def sum_cubes_direct(n):\n",
    "    return sum(i**3 for i in range(1, n+1))\n",
    "\n",
    "def sum_cubes_formula(n):\n",
    "    s = n*(n+1)//2\n",
    "    return s*s\n",
    "\n",
    "for n in [1,2,3,4,5,10,20,50]:\n",
    "    print(f\"n={n:2d} | squares: direct={sum_squares_direct(n):8d} formula={sum_squares_formula(n):8d} | cubes: direct={sum_cubes_direct(n):12d} formula={sum_cubes_formula(n):12d}\")"
   ]
  },
  {
   "cell_type": "markdown",
   "id": "ed596403",
   "metadata": {},
   "source": [
    "## Module 5 — Interactive exploration (change n, observe growth)\n",
    "\n",
    "Below you can change the value of `n` and see numeric results and a simple plot of the growth of sums: ∑x, ∑x², ∑x³."
   ]
  },
  {
   "cell_type": "code",
   "execution_count": 6,
   "id": "4b3315be",
   "metadata": {},
   "outputs": [
    {
     "data": {
      "image/png": "[encoded data removed]",
      "text/plain": [
       "<Figure size 800x400 with 1 Axes>"
      ]
     },
     "metadata": {},
     "output_type": "display_data"
    }
   ],
   "source": [
    "# Interactive exploration: compute sums and plot growth\n",
    "import matplotlib.pyplot as plt\n",
    "\n",
    "def compute_sums_up_to(max_n=100):\n",
    "    ns = list(range(1, max_n+1))\n",
    "    sum_x = [n*(n+1)/2 for n in ns]\n",
    "    sum_x2 = [n*(n+1)*(2*n+1)/6 for n in ns]\n",
    "    sum_x3 = [(n*(n+1)/2)**2 for n in ns]\n",
    "    return ns, sum_x, sum_x2, sum_x3\n",
    "\n",
    "# Set max_n here\n",
    "max_n = 60\n",
    "ns, sx, sx2, sx3 = compute_sums_up_to(max_n)\n",
    "\n",
    "fig, ax = plt.subplots(figsize=(8,4))\n",
    "ax.plot(ns, sx, label='sum x (n(n+1)/2)')\n",
    "ax.plot(ns, sx2, label='sum x^2 (n(n+1)(2n+1)/6)')\n",
    "ax.plot(ns, sx3, label='sum x^3 ((n(n+1)/2)^2)')\n",
    "ax.set_xlabel('n')\n",
    "ax.set_ylabel('sum value')\n",
    "ax.legend()\n",
    "plt.show()"
   ]
  },
  {
   "cell_type": "markdown",
   "id": "c64eca01",
   "metadata": {},
   "source": [
    "**Challenge:** Try increasing `max_n` to 200 or 1000 and re-run the cell. Observe how the cubic sum grows much faster than linear or quadratic sums."
   ]
  },
  {
   "cell_type": "markdown",
   "id": "9a62c1c3",
   "metadata": {},
   "source": [
    "## Module 6 — Exercises\n",
    "\n",
    "1. Compute the sum 1+2+...+100 using the formula. Confirm by direct computation.\n",
    "2. Compute ∑x² for n = 100 and use it to find the variance of numbers 1..100 (population variance).\n",
    "3. Prove (on paper) that ∑x³ = (∑x)² using algebraic manipulation or a simple induction argument.\n",
    "\n",
    "Run the code cell below to get answers for exercises 1 and 2."
   ]
  },
  {
   "cell_type": "code",
   "execution_count": 7,
   "id": "bdd29076",
   "metadata": {},
   "outputs": [
    {
     "data": {
      "text/plain": [
       "(5050, 338350, 50.5, 833.25)"
      ]
     },
     "execution_count": 7,
     "metadata": {},
     "output_type": "execute_result"
    }
   ],
   "source": [
    "# Exercise answers for quick-check\n",
    "def triangular(n): return n*(n+1)//2\n",
    "def sum_squares_formula(n): return n*(n+1)*(2*n+1)//6\n",
    "\n",
    "n = 100\n",
    "S = triangular(n)\n",
    "S2 = sum_squares_formula(n)\n",
    "\n",
    "# population mean of numbers 1..n\n",
    "mean = S / n\n",
    "# population variance = (1/n) * sum[(x-mean)^2] = (1/n)*sum(x^2) - mean^2\n",
    "variance = (S2 / n) - (mean**2)\n",
    "\n",
    "S, S2, mean, variance"
   ]
  },
  {
   "cell_type": "markdown",
   "id": "6ad2fca2",
   "metadata": {},
   "source": [
    "## Module 7 — Further reading and next steps\n",
    "\n",
    "If you enjoyed this notebook you can:\n",
    "\n",
    "- Try implementing proofs by induction for the formulas.\n",
    "- Explore Faulhaber's formula and Bernoulli numbers (advanced).\n",
    "- Use the notebook to create visual slides for teaching. \n",
    "\n",
    "---\n",
    "\n"
   ]
  }
 ],
 "metadata": {
  "kernelspec": {
   "display_name": "Python [conda env:base] *",
   "language": "python",
   "name": "conda-base-py"
  },
  "language_info": {
   "codemirror_mode": {
    "name": "ipython",
    "version": 3
   },
   "file_extension": ".py",
   "mimetype": "text/x-python",
   "name": "python",
   "nbconvert_exporter": "python",
   "pygments_lexer": "ipython3",
   "version": "3.13.5"
  }
 },
 "nbformat": 4,
 "nbformat_minor": 5
}
